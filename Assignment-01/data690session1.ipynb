{
  "nbformat": 4,
  "nbformat_minor": 0,
  "metadata": {
    "colab": {
      "provenance": [],
      "authorship_tag": "ABX9TyPkk8wcQRE/Y7aAP2HPpcHf",
      "include_colab_link": true
    },
    "kernelspec": {
      "name": "python3",
      "display_name": "Python 3"
    },
    "language_info": {
      "name": "python"
    }
  },
  "cells": [
    {
      "cell_type": "markdown",
      "metadata": {
        "id": "view-in-github",
        "colab_type": "text"
      },
      "source": [
        "<a href=\"https://colab.research.google.com/github/Priyankabalumuri/690/blob/main/Assignment-01/data690session1.ipynb\" target=\"_parent\"><img src=\"https://colab.research.google.com/assets/colab-badge.svg\" alt=\"Open In Colab\"/></a>"
      ]
    },
    {
      "cell_type": "markdown",
      "source": [],
      "metadata": {
        "id": "aqWiUwkTsw4_"
      }
    },
    {
      "cell_type": "markdown",
      "source": [
        "# Data 690 Session 01\n",
        "\n",
        "This is the notebook for in class practice.\n",
        "\n",
        "- Name : Priyanka Balumuri\n",
        "-Date : 09/01/2022\n"
      ],
      "metadata": {
        "id": "RaksxLd-szBZ"
      }
    },
    {
      "cell_type": "code",
      "source": [
        "print(\"Hello World\")"
      ],
      "metadata": {
        "colab": {
          "base_uri": "https://localhost:8080/"
        },
        "id": "JYWlLWdUtOXu",
        "outputId": "2e6ef464-4391-40be-cae4-5f8017b9e876"
      },
      "execution_count": 1,
      "outputs": [
        {
          "output_type": "stream",
          "name": "stdout",
          "text": [
            "Hello World\n"
          ]
        }
      ]
    },
    {
      "cell_type": "code",
      "source": [
        "print(\"my name\", \"is priyanka\")"
      ],
      "metadata": {
        "colab": {
          "base_uri": "https://localhost:8080/"
        },
        "id": "LXdyOZwVuvWS",
        "outputId": "da5a87c0-211f-42e5-d635-5e816af89f29"
      },
      "execution_count": 2,
      "outputs": [
        {
          "output_type": "stream",
          "name": "stdout",
          "text": [
            "my name is priyanka\n"
          ]
        }
      ]
    },
    {
      "cell_type": "code",
      "source": [
        "age = 23\n",
        "name = \"Priyanka\"\n",
        "print(\"my name is\",name,\"my age is\",age)"
      ],
      "metadata": {
        "colab": {
          "base_uri": "https://localhost:8080/"
        },
        "id": "z4eFQJM9u72t",
        "outputId": "f6e193ca-e05e-4592-9849-017c9f26fbcd"
      },
      "execution_count": 3,
      "outputs": [
        {
          "output_type": "stream",
          "name": "stdout",
          "text": [
            "my name is Priyanka my age is 23\n"
          ]
        }
      ]
    }
  ]
}