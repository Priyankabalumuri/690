{
 "cells": [
  {
   "cell_type": "markdown",
   "metadata": {
    "id": "iYfJwLYjPM3b"
   },
   "source": [
    "# 10 integers"
   ]
  },
  {
   "cell_type": "code",
   "execution_count": 69,
   "metadata": {
    "colab": {
     "base_uri": "https://localhost:8080/"
    },
    "id": "4pdYBZVKNU2B",
    "outputId": "29967532-531a-459d-8f3a-d349e33643ed"
   },
   "outputs": [
    {
     "name": "stdout",
     "output_type": "stream",
     "text": [
      "67\n",
      "89\n",
      "7\n",
      "78\n",
      "56\n",
      "8\n",
      "45\n",
      "9\n",
      "34\n",
      "67\n",
      "[67, 89, 7, 78, 56, 8, 45, 9, 34, 67]\n"
     ]
    }
   ],
   "source": [
    "ten_int=[]\n",
    "for i in range(10):\n",
    "  try:\n",
    "    n=int(input())\n",
    "  except:\n",
    "    print(\"please enter a valid input\")\n",
    "  ten_int.append(n)\n",
    "print(ten_int)\n",
    "\n",
    "\n",
    "\n"
   ]
  },
  {
   "cell_type": "code",
   "execution_count": 71,
   "metadata": {
    "colab": {
     "base_uri": "https://localhost:8080/"
    },
    "id": "lPCicUEsP_Rd",
    "outputId": "0e061819-af6d-489a-99a0-e34872c239c2"
   },
   "outputs": [
    {
     "name": "stdout",
     "output_type": "stream",
     "text": [
      "[7, 8, 9, 34, 45, 56, 67, 67, 78, 89]\n"
     ]
    }
   ],
   "source": [
    "for k in range(0,10):\n",
    "  for l in range(k+1,10):\n",
    "    if(ten_int[k]>ten_int[l]):\n",
    "      z=ten_int[k]\n",
    "      ten_int[k]=ten_int[l]\n",
    "      ten_int[l]=z\n",
    "print(ten_int)"
   ]
  },
  {
   "cell_type": "markdown",
   "metadata": {
    "id": "0S9eRN0BQ64s"
   },
   "source": [
    "# Maximum"
   ]
  },
  {
   "cell_type": "code",
   "execution_count": 72,
   "metadata": {
    "colab": {
     "base_uri": "https://localhost:8080/"
    },
    "id": "wOLgnGWcRAFS",
    "outputId": "a57621cf-9f6b-4b4c-a6f6-4d8ebb3c78ad"
   },
   "outputs": [
    {
     "name": "stdout",
     "output_type": "stream",
     "text": [
      "89\n"
     ]
    }
   ],
   "source": [
    "maximum_value=ten_int[len(ten_int)-1]\n",
    "print(maximum_value)"
   ]
  },
  {
   "cell_type": "markdown",
   "metadata": {
    "id": "VBx_cFvERthY"
   },
   "source": [
    "# Minimum"
   ]
  },
  {
   "cell_type": "code",
   "execution_count": 73,
   "metadata": {
    "colab": {
     "base_uri": "https://localhost:8080/"
    },
    "id": "aPxnOAAVRykB",
    "outputId": "0bb88109-193d-4bc6-8689-a9a94a34f469"
   },
   "outputs": [
    {
     "name": "stdout",
     "output_type": "stream",
     "text": [
      "7\n"
     ]
    }
   ],
   "source": [
    "minimum_value=(ten_int[0])\n",
    "print(minimum_value)"
   ]
  },
  {
   "cell_type": "markdown",
   "metadata": {},
   "source": [
    "# Range"
   ]
  },
  {
   "cell_type": "code",
   "execution_count": 74,
   "metadata": {},
   "outputs": [
    {
     "name": "stdout",
     "output_type": "stream",
     "text": [
      "The range is 7, 89\n"
     ]
    }
   ],
   "source": [
    "print(f'The range is {minimum_value}, {maximum_value}')"
   ]
  },
  {
   "cell_type": "markdown",
   "metadata": {
    "id": "NG6oSUp5SAOo"
   },
   "source": [
    "#  Mean"
   ]
  },
  {
   "cell_type": "code",
   "execution_count": 75,
   "metadata": {
    "colab": {
     "base_uri": "https://localhost:8080/"
    },
    "id": "0U3bcywBSE4X",
    "outputId": "c0a159ea-0fc1-4177-e796-caeafadc6ab5"
   },
   "outputs": [
    {
     "name": "stdout",
     "output_type": "stream",
     "text": [
      "46.0\n"
     ]
    }
   ],
   "source": [
    "total=0\n",
    "for k in range(10):\n",
    "  total=ten_int[k]+total\n",
    "mean=total/len(ten_int)\n",
    "print(mean)"
   ]
  },
  {
   "cell_type": "markdown",
   "metadata": {
    "id": "2SQ1YDpDS2cv"
   },
   "source": [
    "# Variance\n"
   ]
  },
  {
   "cell_type": "code",
   "execution_count": 76,
   "metadata": {
    "colab": {
     "base_uri": "https://localhost:8080/"
    },
    "id": "rxu_ZbO-S7cv",
    "outputId": "ee5e6b30-0ec1-4f76-85f6-d1a9b50da614"
   },
   "outputs": [
    {
     "name": "stdout",
     "output_type": "stream",
     "text": [
      "833.4\n"
     ]
    }
   ],
   "source": [
    "sum=0;\n",
    "\n",
    "for i in range(len(ten_int)):\n",
    "   var = (ten_int[i]-mean)**2;\n",
    "   sum += var;\n",
    "\n",
    "print (sum/len(ten_int));"
   ]
  },
  {
   "cell_type": "markdown",
   "metadata": {
    "id": "CPqW_z2ZUVH8"
   },
   "source": [
    "#  Standard Deviation"
   ]
  },
  {
   "cell_type": "code",
   "execution_count": 77,
   "metadata": {
    "colab": {
     "base_uri": "https://localhost:8080/"
    },
    "id": "jHVW1FIZUcI0",
    "outputId": "c395ce35-3fd8-42ad-e07d-73d8592aa5a4"
   },
   "outputs": [
    {
     "name": "stdout",
     "output_type": "stream",
     "text": [
      "43.0\n"
     ]
    }
   ],
   "source": [
    "sd=var**0.5\n",
    "print(sd)"
   ]
  },
  {
   "cell_type": "code",
   "execution_count": null,
   "metadata": {},
   "outputs": [],
   "source": []
  },
  {
   "cell_type": "code",
   "execution_count": null,
   "metadata": {},
   "outputs": [],
   "source": []
  }
 ],
 "metadata": {
  "colab": {
   "name": "assignment_02.ipynb",
   "provenance": []
  },
  "kernelspec": {
   "display_name": "Python 3",
   "language": "python",
   "name": "python3"
  },
  "language_info": {
   "codemirror_mode": {
    "name": "ipython",
    "version": 3
   },
   "file_extension": ".py",
   "mimetype": "text/x-python",
   "name": "python",
   "nbconvert_exporter": "python",
   "pygments_lexer": "ipython3",
   "version": "3.8.8"
  }
 },
 "nbformat": 4,
 "nbformat_minor": 1
}
