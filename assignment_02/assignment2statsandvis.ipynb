{
 "cells": [
  {
   "cell_type": "markdown",
   "metadata": {
    "id": "iYfJwLYjPM3b"
   },
   "source": [
    "# please enter 10 integer values"
   ]
  },
  {
   "cell_type": "code",
   "execution_count": 1,
   "metadata": {
    "colab": {
     "base_uri": "https://localhost:8080/"
    },
    "id": "4pdYBZVKNU2B",
    "outputId": "29967532-531a-459d-8f3a-d349e33643ed"
   },
   "outputs": [
    {
     "name": "stdout",
     "output_type": "stream",
     "text": [
      "enter a integer:10\n",
      "enter a integer:12\n",
      "enter a integer:we\n",
      "please enter a valid input\n",
      "enter a integer:rr\n",
      "please enter a valid input\n",
      "enter a integer:34\n",
      "enter a integer:3\n",
      "enter a integer:5\n",
      "enter a integer:98\n",
      "enter a integer:37\n",
      "enter a integer:45\n",
      "enter a integer:23\n",
      "enter a integer:19\n",
      "[10, 12, 34, 3, 5, 98, 37, 45, 23, 19]\n"
     ]
    }
   ],
   "source": [
    "ten_int=[]\n",
    "for i in range(10):\n",
    "    while True:      \n",
    "     try:\n",
    "        n=int(input(\"enter a integer:\"))\n",
    "        ten_int.append(n)\n",
    "        break\n",
    "     except:\n",
    "        print(\"please enter a valid input\")\n",
    "  \n",
    "print(ten_int)\n",
    "\n",
    "\n",
    "\n"
   ]
  },
  {
   "cell_type": "markdown",
   "metadata": {},
   "source": [
    "# Sorting the list"
   ]
  },
  {
   "cell_type": "code",
   "execution_count": 11,
   "metadata": {
    "colab": {
     "base_uri": "https://localhost:8080/"
    },
    "id": "lPCicUEsP_Rd",
    "outputId": "0e061819-af6d-489a-99a0-e34872c239c2"
   },
   "outputs": [
    {
     "name": "stdout",
     "output_type": "stream",
     "text": [
      "[3, 5, 10, 12, 19, 23, 34, 37, 45, 98]\n"
     ]
    }
   ],
   "source": [
    "for k in range(0,10):\n",
    "  for l in range(k+1,10):\n",
    "    if(ten_int[k]>ten_int[l]):\n",
    "      z=ten_int[k]\n",
    "      ten_int[k]=ten_int[l]\n",
    "      ten_int[l]=z\n",
    "print(ten_int)"
   ]
  },
  {
   "cell_type": "markdown",
   "metadata": {
    "id": "0S9eRN0BQ64s"
   },
   "source": [
    "# Maximum value in the list"
   ]
  },
  {
   "cell_type": "code",
   "execution_count": 12,
   "metadata": {
    "colab": {
     "base_uri": "https://localhost:8080/"
    },
    "id": "wOLgnGWcRAFS",
    "outputId": "a57621cf-9f6b-4b4c-a6f6-4d8ebb3c78ad"
   },
   "outputs": [
    {
     "name": "stdout",
     "output_type": "stream",
     "text": [
      "98\n"
     ]
    }
   ],
   "source": [
    "maximum_value=ten_int[len(ten_int)-1]\n",
    "print(maximum_value)"
   ]
  },
  {
   "cell_type": "markdown",
   "metadata": {
    "id": "VBx_cFvERthY"
   },
   "source": [
    "# Minimum value in the list"
   ]
  },
  {
   "cell_type": "code",
   "execution_count": 13,
   "metadata": {
    "colab": {
     "base_uri": "https://localhost:8080/"
    },
    "id": "aPxnOAAVRykB",
    "outputId": "0bb88109-193d-4bc6-8689-a9a94a34f469"
   },
   "outputs": [
    {
     "name": "stdout",
     "output_type": "stream",
     "text": [
      "3\n"
     ]
    }
   ],
   "source": [
    "minimum_value=(ten_int[0])\n",
    "print(minimum_value)"
   ]
  },
  {
   "cell_type": "markdown",
   "metadata": {},
   "source": [
    "# Range of the list"
   ]
  },
  {
   "cell_type": "code",
   "execution_count": 19,
   "metadata": {},
   "outputs": [
    {
     "name": "stdout",
     "output_type": "stream",
     "text": [
      "The range is 3, 98\n"
     ]
    }
   ],
   "source": [
    "print(f'The range is {minimum_value}, {maximum_value}')"
   ]
  },
  {
   "cell_type": "markdown",
   "metadata": {
    "id": "NG6oSUp5SAOo"
   },
   "source": [
    "#  Mean"
   ]
  },
  {
   "cell_type": "code",
   "execution_count": 15,
   "metadata": {
    "colab": {
     "base_uri": "https://localhost:8080/"
    },
    "id": "0U3bcywBSE4X",
    "outputId": "c0a159ea-0fc1-4177-e796-caeafadc6ab5"
   },
   "outputs": [
    {
     "name": "stdout",
     "output_type": "stream",
     "text": [
      "28.6\n"
     ]
    }
   ],
   "source": [
    "total=0\n",
    "for k in range(10):\n",
    "  total=ten_int[k]+total\n",
    "mean=total/len(ten_int)\n",
    "print(mean)"
   ]
  },
  {
   "cell_type": "markdown",
   "metadata": {
    "id": "2SQ1YDpDS2cv"
   },
   "source": [
    "# Variance\n"
   ]
  },
  {
   "cell_type": "markdown",
   "metadata": {},
   "source": [
    "references: https://stackoverflow.com/questions/35583302/how-can-i-calculate-the-variance-of-a-list-in-python#:~:text=If%20-%20for%20whatever%20reason%20-%20you%20cannot,2%20for%20xi%20in%20results%29%20%2F%20len%20%28results%29"
   ]
  },
  {
   "cell_type": "code",
   "execution_count": 16,
   "metadata": {},
   "outputs": [],
   "source": [
    "Mklast = 0\n",
    "Mk = 0\n",
    "Sk = 0\n",
    "k  = 0 \n",
    "\n",
    "for xi in ten_int:\n",
    "  k = k +1\n",
    "  Mk = Mklast + (xi - Mklast) / k\n",
    "  Sk = Sk + (xi - Mklast) * ( xi - Mk)\n",
    "  Mklast = Mk\n"
   ]
  },
  {
   "cell_type": "code",
   "execution_count": 17,
   "metadata": {},
   "outputs": [
    {
     "name": "stdout",
     "output_type": "stream",
     "text": [
      "793.6\n"
     ]
    }
   ],
   "source": [
    "\n",
    "var = Sk / (k -1)\n",
    "print (var)"
   ]
  },
  {
   "cell_type": "markdown",
   "metadata": {
    "id": "CPqW_z2ZUVH8"
   },
   "source": [
    "#  Standard Deviation"
   ]
  },
  {
   "cell_type": "code",
   "execution_count": 18,
   "metadata": {
    "colab": {
     "base_uri": "https://localhost:8080/"
    },
    "id": "jHVW1FIZUcI0",
    "outputId": "c395ce35-3fd8-42ad-e07d-73d8592aa5a4"
   },
   "outputs": [
    {
     "name": "stdout",
     "output_type": "stream",
     "text": [
      "28.170906978654415\n"
     ]
    }
   ],
   "source": [
    "sd=var**0.5\n",
    "print(sd)"
   ]
  }
 ],
 "metadata": {
  "colab": {
   "name": "assignment_02.ipynb",
   "provenance": []
  },
  "kernelspec": {
   "display_name": "Python 3",
   "language": "python",
   "name": "python3"
  },
  "language_info": {
   "codemirror_mode": {
    "name": "ipython",
    "version": 3
   },
   "file_extension": ".py",
   "mimetype": "text/x-python",
   "name": "python",
   "nbconvert_exporter": "python",
   "pygments_lexer": "ipython3",
   "version": "3.8.8"
  }
 },
 "nbformat": 4,
 "nbformat_minor": 1
}
