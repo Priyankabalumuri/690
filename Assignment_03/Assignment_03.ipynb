{
  "cells": [
    {
      "cell_type": "markdown",
      "metadata": {
        "id": "view-in-github",
        "colab_type": "text"
      },
      "source": [
        "<a href=\"https://colab.research.google.com/github/Priyankabalumuri/690/blob/main/Assignment_03/Assignment_03.ipynb\" target=\"_parent\"><img src=\"https://colab.research.google.com/assets/colab-badge.svg\" alt=\"Open In Colab\"/></a>"
      ]
    },
    {
      "cell_type": "markdown",
      "id": "8903a499",
      "metadata": {
        "id": "8903a499"
      },
      "source": [
        "## Printing random numbers in a 10 by 10 matrix"
      ]
    },
    {
      "cell_type": "code",
      "execution_count": null,
      "id": "c5a82a2a",
      "metadata": {
        "id": "c5a82a2a",
        "outputId": "657fcd3a-f1d6-4e5e-e457-f6cddfd5fbb4"
      },
      "outputs": [
        {
          "name": "stdout",
          "output_type": "stream",
          "text": [
            "7 2 3 4 9 2 4 9 2 8 \n",
            "9 9 0 1 1 4 5 4 5 2 \n",
            "1 2 6 0 7 7 4 6 6 1 \n",
            "2 6 0 1 6 4 6 9 0 1 \n",
            "1 8 2 1 9 2 7 1 8 7 \n",
            "0 1 1 3 3 3 8 0 5 1 \n",
            "4 6 8 8 9 8 9 4 6 6 \n",
            "5 1 0 1 5 8 3 3 4 9 \n",
            "9 0 3 1 2 1 1 7 0 8 \n",
            "6 6 7 6 8 6 3 5 9 7 \n"
          ]
        }
      ],
      "source": [
        "import random\n",
        "size=10\n",
        "\n",
        "for i in range(size):\n",
        "  for j in range(size):\n",
        "    print(random.randint(0,9),end=\" \")\n",
        "  print()\n",
        "\n",
        "    \n",
        "\n"
      ]
    },
    {
      "cell_type": "markdown",
      "id": "a2066e68",
      "metadata": {
        "id": "a2066e68"
      },
      "source": [
        "## Printing @ instead of an odd number"
      ]
    },
    {
      "cell_type": "code",
      "execution_count": null,
      "id": "bb45f667",
      "metadata": {
        "id": "bb45f667",
        "outputId": "a758fee8-6d22-4041-8fad-fca7aa5838d9"
      },
      "outputs": [
        {
          "name": "stdout",
          "output_type": "stream",
          "text": [
            "8 @ @ 8 @ 0 6 4 @ 6 \n",
            "@ 2 6 4 0 @ 2 8 8 6 \n",
            "2 @ @ @ 8 8 @ 0 0 @ \n",
            "@ @ 6 2 0 @ @ 4 @ @ \n",
            "@ 0 @ 2 @ 8 @ @ @ 0 \n",
            "4 6 6 4 6 0 8 0 4 2 \n",
            "@ @ @ @ 8 4 @ @ @ @ \n",
            "@ @ @ 2 @ @ 6 @ 0 @ \n",
            "@ @ 8 4 0 @ 6 8 @ @ \n",
            "@ @ 8 @ 0 @ 2 6 @ @ \n"
          ]
        }
      ],
      "source": [
        "size=10\n",
        "for i in range(size):\n",
        "  for j in range(size):\n",
        "    f=random.randint(0,9)\n",
        "    if(f)%2!=0:\n",
        "      f=\"@\"\n",
        "      print(f,end=\" \")\n",
        "    else:\n",
        "      print(f,end=\" \")\n",
        "  print()"
      ]
    },
    {
      "cell_type": "markdown",
      "id": "4b5dade7",
      "metadata": {
        "id": "4b5dade7"
      },
      "source": [
        "##  Calculating and Printing the total of each row"
      ]
    },
    {
      "cell_type": "code",
      "execution_count": null,
      "id": "075fc6b2",
      "metadata": {
        "id": "075fc6b2",
        "outputId": "36ca756f-5d63-4097-8563-d07c855876f1"
      },
      "outputs": [
        {
          "name": "stdout",
          "output_type": "stream",
          "text": [
            "3 4 2 8 0 2 8 0 8 3 * 38 \n",
            "4 4 9 3 4 1 8 2 4 2 * 41 \n",
            "0 7 6 7 3 8 6 8 3 5 * 53 \n",
            "8 5 9 3 6 1 3 6 5 9 * 55 \n",
            "3 0 6 4 8 0 1 5 1 6 * 34 \n",
            "5 5 7 6 8 9 3 9 0 6 * 58 \n",
            "4 1 8 6 8 6 7 6 5 0 * 51 \n",
            "1 7 3 0 9 2 7 8 4 0 * 41 \n",
            "2 0 5 8 4 3 0 7 7 1 * 37 \n",
            "0 0 4 0 5 1 4 7 9 9 * 39 \n"
          ]
        }
      ],
      "source": [
        "for i in range(10):\n",
        "  random_number=[]\n",
        "  for j in range(12):\n",
        "    if j<10:\n",
        "      f=random.randint(0,9)\n",
        "      random_number.append(f)\n",
        "      print(f,end=\" \")\n",
        "    elif j==10:\n",
        "      print(\"*\",end=\" \")\n",
        "    else:\n",
        "      s=sum(random_number)\n",
        "      print(s,end=\" \") \n",
        "  print()"
      ]
    },
    {
      "cell_type": "markdown",
      "id": "bd4e5c47",
      "metadata": {
        "id": "bd4e5c47"
      },
      "source": [
        "## Surrounding the matrix with asterisks"
      ]
    },
    {
      "cell_type": "code",
      "execution_count": null,
      "id": "76c4d654",
      "metadata": {
        "id": "76c4d654",
        "outputId": "2075b78c-08b3-4c33-904d-70324156478a"
      },
      "outputs": [
        {
          "name": "stdout",
          "output_type": "stream",
          "text": [
            "***********************\n",
            "* 4 8 3 1 2 9 8 5 7 0 *\n",
            "* 2 9 5 5 4 1 6 0 8 8 *\n",
            "* 0 3 8 2 0 8 8 6 2 9 *\n",
            "* 4 8 3 7 6 2 9 4 8 0 *\n",
            "* 0 8 5 5 8 7 6 5 5 3 *\n",
            "* 2 9 3 2 5 9 7 6 5 5 *\n",
            "* 7 6 3 8 1 0 5 5 5 9 *\n",
            "* 3 4 1 0 7 2 0 0 9 4 *\n",
            "* 4 1 5 6 6 0 7 2 1 8 *\n",
            "* 3 5 9 9 0 0 7 1 6 2 *\n",
            "***********************\n"
          ]
        }
      ],
      "source": [
        "print(\"***********************\")\n",
        "for i in range(10):\n",
        "    print(\"*\", end=\" \")\n",
        "    for j in range(10):\n",
        "        k = random.randint(0,9)\n",
        "        print(k, end = \" \")\n",
        "    print(\"*\")\n",
        "print(\"***********************\")"
      ]
    },
    {
      "cell_type": "markdown",
      "id": "baa2874f",
      "metadata": {
        "id": "baa2874f"
      },
      "source": [
        "## Calculating and Printing the total of each row and column"
      ]
    },
    {
      "cell_type": "code",
      "execution_count": null,
      "id": "0b150baf",
      "metadata": {
        "id": "0b150baf",
        "outputId": "9afe5b71-d845-4e48-d149-5d31e3fcbdee"
      },
      "outputs": [
        {
          "name": "stdout",
          "output_type": "stream",
          "text": [
            "1  5  2  8  1  9  8  6  7  0  * 47\n",
            "8  4  3  4  8  6  2  4  1  8  * 48\n",
            "0  0  6  2  3  7  5  5  8  3  * 39\n",
            "9  0  3  0  9  8  9  4  0  7  * 49\n",
            "4  1  9  2  3  8  8  6  0  7  * 48\n",
            "9  2  6  6  4  7  1  0  4  8  * 47\n",
            "5  8  6  9  2  7  0  9  5  7  * 58\n",
            "7  4  5  1  2  7  0  3  6  1  * 36\n",
            "8  6  1  2  4  8  7  3  2  1  * 42\n",
            "1  8  5  3  3  2  5  3  7  1  * 38\n",
            "*  *  *  *  *  *  *  *  *  *  \n",
            "52 38 46 37 39 69 45 43 40 43 \n"
          ]
        }
      ],
      "source": [
        "list = [0,0,0,0,0,0,0,0,0,0]\n",
        "for i in range(12):\n",
        "    x=0\n",
        "    for j in range(10):\n",
        "        if(i==10):\n",
        "            print(\"*\",end=\"  \")\n",
        "        elif(i==11):\n",
        "            print(list[j], end=\" \")\n",
        "        else:    \n",
        "            y =random.randint(0, 9)\n",
        "            list[j]+=y\n",
        "            x=x+y\n",
        "            print(y,end=\"  \")\n",
        "    if(i<10):        \n",
        "        print(\"*\",x)    \n",
        "    else:\n",
        "        print()"
      ]
    },
    {
      "cell_type": "code",
      "execution_count": null,
      "id": "7d7f5840",
      "metadata": {
        "id": "7d7f5840"
      },
      "outputs": [],
      "source": []
    }
  ],
  "metadata": {
    "kernelspec": {
      "display_name": "Python 3",
      "language": "python",
      "name": "python3"
    },
    "language_info": {
      "codemirror_mode": {
        "name": "ipython",
        "version": 3
      },
      "file_extension": ".py",
      "mimetype": "text/x-python",
      "name": "python",
      "nbconvert_exporter": "python",
      "pygments_lexer": "ipython3",
      "version": "3.8.8"
    },
    "colab": {
      "provenance": [],
      "include_colab_link": true
    }
  },
  "nbformat": 4,
  "nbformat_minor": 5
}